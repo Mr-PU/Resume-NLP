{
 "cells": [
  {
   "cell_type": "code",
   "execution_count": null,
   "id": "7c75b6e6",
   "metadata": {},
   "outputs": [],
   "source": []
  },
  {
   "cell_type": "code",
   "execution_count": 1,
   "id": "4a2d4ef1",
   "metadata": {},
   "outputs": [],
   "source": [
    "from keras.models import load_model\n",
    "import tensorflow as tf\n",
    "import pydot\n",
    "from tensorflow.keras.models import Sequential\n",
    "from nltk.corpus import stopwords\n",
    "from collections import Counter"
   ]
  },
  {
   "cell_type": "code",
   "execution_count": 2,
   "id": "64c2b0bc",
   "metadata": {},
   "outputs": [],
   "source": [
    "# Import required libraries\n",
    "import PyPDF2\n",
    "import re\n",
    "import string\n",
    "import pandas as pd\n",
    "import matplotlib.pyplot as plt\n",
    "from transformers import BertTokenizer\n",
    "from transformers import BertTokenizer, TFBertModel\n",
    "from transformers import BertTokenizer, BertForSequenceClassification\n",
    "from transformers import AutoTokenizer, AutoModelForSequenceClassification\n",
    "from transformers import BertForSequenceClassification\n",
    "from transformers import BertTokenizer, BertForTokenClassification\n",
    "import torch"
   ]
  },
  {
   "cell_type": "code",
   "execution_count": 3,
   "id": "e81d0133",
   "metadata": {},
   "outputs": [],
   "source": [
    "pdf = open(r\"C:\\Users\\PRASHANT\\Untitled Folder 3\\resume\\pu.pdf\", 'rb') #resume input"
   ]
  },
  {
   "cell_type": "code",
   "execution_count": 4,
   "id": "4d932a6b",
   "metadata": {},
   "outputs": [],
   "source": [
    "pdfReader = PyPDF2.PdfReader(pdf)"
   ]
  },
  {
   "cell_type": "markdown",
   "id": "830e4cd0",
   "metadata": {},
   "source": [
    "## Metadata:"
   ]
  },
  {
   "cell_type": "code",
   "execution_count": 5,
   "id": "c2fc3a7d",
   "metadata": {},
   "outputs": [
    {
     "data": {
      "text/plain": [
       "{'/Author': 'Prateek Kala',\n",
       " '/Creator': 'Microsoft® Word 2016',\n",
       " '/CreationDate': \"D:20221205042833+00'00'\",\n",
       " '/Producer': 'www.ilovepdf.com',\n",
       " '/ModDate': 'D:20221205042833Z'}"
      ]
     },
     "execution_count": 5,
     "metadata": {},
     "output_type": "execute_result"
    }
   ],
   "source": [
    "pdfReader.metadata #About PDF"
   ]
  },
  {
   "cell_type": "markdown",
   "id": "72a52fdd",
   "metadata": {},
   "source": [
    "## Number of Pages in the Resume:"
   ]
  },
  {
   "cell_type": "code",
   "execution_count": 6,
   "id": "12534c92",
   "metadata": {},
   "outputs": [
    {
     "name": "stdout",
     "output_type": "stream",
     "text": [
      "Number of pages in the document: 1\n"
     ]
    }
   ],
   "source": [
    "x= (len(pdfReader.pages))\n",
    "print(\"Number of pages in the document:\",x)"
   ]
  },
  {
   "cell_type": "code",
   "execution_count": 7,
   "id": "5589bd69",
   "metadata": {},
   "outputs": [],
   "source": [
    "text = \" \""
   ]
  },
  {
   "cell_type": "code",
   "execution_count": 8,
   "id": "98679e05",
   "metadata": {},
   "outputs": [],
   "source": [
    "for page_number in range(x):\n",
    "    pdfReader = PyPDF2.PdfReader(pdf)\n",
    "    if pdfReader.is_encrypted:\n",
    "        pdfReader.decrypt('')\n",
    "    page = pdfReader.pages[page_number]\n",
    "    text += page.extract_text()"
   ]
  },
  {
   "cell_type": "code",
   "execution_count": 9,
   "id": "25228acb",
   "metadata": {},
   "outputs": [
    {
     "data": {
      "text/plain": [
       "' CAREER  OBJECTIVE  \\nTraining  and Certifications  \\nJobs  and Responsibilities  \\nCOMPUTER  SKILLS  \\nACADEMIC  BACKGROUND  PRASHANT  UPADHYAY  \\nPhone: +91  8954653528  \\nEmail:  prashantupadhyay0@gmail.com  \\nPrashant  is a career -oriented  professional  with decent  communication  and interpersonal  skills,  who knows  \\nhow to make  sense  of data and translate  it into actionable  insights.  He is familiar  with gathering,  cleaning,  \\nand organizing data for the use of technical and non -technical personnel. He is seeking a challenging  \\nposition in a growth -oriented organization w here he can effectively contribute through his skills and  \\nabilities.  \\n \\nCertifications:  \\nInstitution:  Google  May,  2022  \\nCertificate:  Google  Data  analytics  professional  certification  \\n \\nInstitution:  LinkedIn  Jul, 2021  \\nCertificate:  Tableau  Essential  Training  (2020.1)  \\nZummit Infolabs  Nov 2022  – Present  \\nJr. Data  Scientist  \\n\\uf0b7 Writing  code  in Python , Tensorflow /Keras  projects  related  to CNN , GAN , and RNN  for the Hospitality  \\nor Financial  domain  \\n\\uf0b7 Used Jupyter /Collab  notebooks  for Machine  Learning  / Deep  Learning  problems  \\nYoshops.com  Jun 2022  – Aug 2022  \\nData  Science  Intern  \\n\\uf0b7 Undertook  to process,  structured  and unstructured  data and analyze  large  amounts  of information  to \\ndiscover  trends  and patterns  \\n\\uf0b7 Combined  models  through  ensemble  modeling  Present  information  using  data visualization  techniques  \\nwith the help of Plotly , Seaborn,  and Matplotlib  \\n\\uf0b7 Web  Scraping  using  Python,  EDA on real-time data,  Implementing  the \"GPT2  model \" for auto- \\ngenerating  text, Handling  Large Real -world  Datasets,  and Creating  .exe files  from Python scripting  \\n \\nVariedaperture.com  Dec 2018  - Nov 2020  \\nWordPress  Developer/Blogger/  Owner  \\n\\uf0b7 Designed and manipulated the website front -end with the help of front -end languages such as HTML,  \\nJavaScript,  and CSS \\n \\nCISPL  Global,  Gurgaon  Mar 2017  - Aug 2018  \\nJr. US IT Recruiter  \\n\\uf0b7 Prepared  weekly  reports  on recruiting  activities,  candidate  placements  and job openings  \\n\\uf0b7 Handled  the tasks  of screening,  selecting,  and submitting  candidates  to job orders  within  a defined  \\ndiscipline  \\n \\n \\nSoftware: Tableau Public, Jupyter Notebook, MySQL , Microsoft Excel, Microsoft word, Kaggle  \\nLanguages: Python , C, C++,  R programming,  SQL \\n \\n \\nB. TECH (Computer Science Engineering with specialization in Mainframe technologies),  \\nUniversity  of Petroleum  and Energy  Studies,  Dehradun  JULY  2017  '"
      ]
     },
     "execution_count": 9,
     "metadata": {},
     "output_type": "execute_result"
    }
   ],
   "source": [
    "text"
   ]
  },
  {
   "cell_type": "code",
   "execution_count": 10,
   "id": "88a5b9ec",
   "metadata": {},
   "outputs": [],
   "source": [
    "pdf.close() # closing the pdf file object"
   ]
  },
  {
   "cell_type": "markdown",
   "id": "733cafc4",
   "metadata": {},
   "source": [
    "## Data Pre-Processing:"
   ]
  },
  {
   "cell_type": "code",
   "execution_count": 11,
   "id": "c873fd17",
   "metadata": {},
   "outputs": [],
   "source": [
    "text = re.sub('http\\S+\\s*', ' ', text)  # remove URLs\n",
    "text = re.sub('RT|cc', ' ', text)  # remove RT and cc\n",
    "text = re.sub('#\\S+', '', text)  # remove hashtags\n",
    "text = re.sub('@\\S+', '  ', text)  # remove mentions\n",
    "text = re.sub('[%s]' % re.escape(\"\"\"!\"#$%&'()*+,-./:;<=>?@[\\]^_`{|}~\"\"\"), ' ', text)  # remove punctuation\n",
    "text = re.sub(r'[0-9]+', '', text)\n",
    "text = re.sub(r'[^\\x00-\\x7f]',r' ', text) \n",
    "text = re.sub('\\s+', ' ', text)  # remove extra whitespace"
   ]
  },
  {
   "cell_type": "code",
   "execution_count": 12,
   "id": "23745bf2",
   "metadata": {},
   "outputs": [],
   "source": [
    "# Convert all strings to lowercase\n",
    "text = text.lower()"
   ]
  },
  {
   "cell_type": "code",
   "execution_count": 13,
   "id": "cb52382a",
   "metadata": {},
   "outputs": [],
   "source": [
    "text2 = text"
   ]
  },
  {
   "cell_type": "code",
   "execution_count": 14,
   "id": "84460cc0",
   "metadata": {},
   "outputs": [],
   "source": [
    "my_stopwords = ['example_stopword1', 'example_stopword2']\n",
    "\n",
    "stop_words = set(stopwords.words('english'))\n",
    "stop_words.update(my_stopwords)"
   ]
  },
  {
   "cell_type": "code",
   "execution_count": 15,
   "id": "8c2b957e",
   "metadata": {},
   "outputs": [],
   "source": [
    "stop_words = set(stopwords.words('english'))"
   ]
  },
  {
   "cell_type": "code",
   "execution_count": 16,
   "id": "1e98518b",
   "metadata": {},
   "outputs": [],
   "source": [
    "#cachedStopWords = stopwords.words(\"english\")\n",
    "pattern = re.compile(r'\\b(' + r'|'.join(stop_words) + r')\\b\\s*')\n",
    "text = pattern.sub('', text)"
   ]
  },
  {
   "cell_type": "code",
   "execution_count": 17,
   "id": "dcc4bc2d",
   "metadata": {},
   "outputs": [
    {
     "data": {
      "text/plain": [
       "' career objective training certifications jobs responsibilities computer skills academic background prashant upadhyay phone email prashantupadhyay prashant career oriented professional decent communication interpersonal skills knows make sense data translate actionable insights familiar gathering cleaning organizing data use technical non technical personnel seeking challenging position growth oriented organization w effectively contribute skills abilities certifications institution google may certificate google data analytics professional certification institution linkedin jul certificate tableau essential training zummit infolabs nov present jr data scientist writing code python tensorflow keras projects related cnn gan rnn hospitality financial domain used jupyter collab notebooks machine learning deep learning problems yoshops com jun aug data science intern undertook process structured unstructured data analyze large amounts information discover trends patterns combined models ensemble modeling present information using data visualization techniques help plotly seaborn matplotlib web scraping using python eda real time data implementing gpt model auto generating text handling large real world datasets creating exe files python scripting variedaperture com dec nov wordpress developer blogger owner designed manipulated website front end help front end languages html javascript css cispl global gurgaon mar aug jr us recruiter prepared weekly reports recruiting activities candidate placements job openings handled tasks screening selecting submitting candidates job orders within defined discipline software tableau public jupyter notebook mysql microsoft excel microsoft word kaggle languages python c c r programming sql b tech computer science engineering specialization mainframe technologies university petroleum energy studies dehradun july '"
      ]
     },
     "execution_count": 17,
     "metadata": {},
     "output_type": "execute_result"
    }
   ],
   "source": [
    "text"
   ]
  },
  {
   "cell_type": "markdown",
   "id": "50d18219",
   "metadata": {},
   "source": [
    "## Extracted Text:"
   ]
  },
  {
   "cell_type": "code",
   "execution_count": 18,
   "id": "cdd7b7dc",
   "metadata": {},
   "outputs": [
    {
     "data": {
      "text/plain": [
       "' career objective training certifications jobs responsibilities computer skills academic background prashant upadhyay phone email prashantupadhyay prashant career oriented professional decent communication interpersonal skills knows make sense data translate actionable insights familiar gathering cleaning organizing data use technical non technical personnel seeking challenging position growth oriented organization w effectively contribute skills abilities certifications institution google may certificate google data analytics professional certification institution linkedin jul certificate tableau essential training zummit infolabs nov present jr data scientist writing code python tensorflow keras projects related cnn gan rnn hospitality financial domain used jupyter collab notebooks machine learning deep learning problems yoshops com jun aug data science intern undertook process structured unstructured data analyze large amounts information discover trends patterns combined models ensemble modeling present information using data visualization techniques help plotly seaborn matplotlib web scraping using python eda real time data implementing gpt model auto generating text handling large real world datasets creating exe files python scripting variedaperture com dec nov wordpress developer blogger owner designed manipulated website front end help front end languages html javascript css cispl global gurgaon mar aug jr us recruiter prepared weekly reports recruiting activities candidate placements job openings handled tasks screening selecting submitting candidates job orders within defined discipline software tableau public jupyter notebook mysql microsoft excel microsoft word kaggle languages python c c r programming sql b tech computer science engineering specialization mainframe technologies university petroleum energy studies dehradun july '"
      ]
     },
     "execution_count": 18,
     "metadata": {},
     "output_type": "execute_result"
    }
   ],
   "source": [
    "text"
   ]
  },
  {
   "cell_type": "code",
   "execution_count": 19,
   "id": "07b582a7",
   "metadata": {},
   "outputs": [],
   "source": [
    "#import string"
   ]
  },
  {
   "cell_type": "code",
   "execution_count": null,
   "id": "a2dfbb2b",
   "metadata": {},
   "outputs": [],
   "source": []
  },
  {
   "cell_type": "code",
   "execution_count": 20,
   "id": "011cf70d",
   "metadata": {},
   "outputs": [],
   "source": [
    "# Load the pre-trained BERT tokenizer\n",
    "tokenizer = BertTokenizer.from_pretrained('bert-base-uncased')"
   ]
  },
  {
   "cell_type": "code",
   "execution_count": 21,
   "id": "09e14400",
   "metadata": {},
   "outputs": [
    {
     "name": "stderr",
     "output_type": "stream",
     "text": [
      "Some weights of the model checkpoint at bert-base-uncased were not used when initializing BertForSequenceClassification: ['cls.predictions.transform.LayerNorm.bias', 'cls.predictions.transform.LayerNorm.weight', 'cls.seq_relationship.weight', 'cls.predictions.decoder.weight', 'cls.seq_relationship.bias', 'cls.predictions.transform.dense.bias', 'cls.predictions.bias', 'cls.predictions.transform.dense.weight']\n",
      "- This IS expected if you are initializing BertForSequenceClassification from the checkpoint of a model trained on another task or with another architecture (e.g. initializing a BertForSequenceClassification model from a BertForPreTraining model).\n",
      "- This IS NOT expected if you are initializing BertForSequenceClassification from the checkpoint of a model that you expect to be exactly identical (initializing a BertForSequenceClassification model from a BertForSequenceClassification model).\n",
      "Some weights of BertForSequenceClassification were not initialized from the model checkpoint at bert-base-uncased and are newly initialized: ['classifier.weight', 'classifier.bias']\n",
      "You should probably TRAIN this model on a down-stream task to be able to use it for predictions and inference.\n"
     ]
    }
   ],
   "source": [
    "# Load the pre-trained BERT model\n",
    "model = BertForSequenceClassification.from_pretrained('bert-base-uncased')"
   ]
  },
  {
   "cell_type": "code",
   "execution_count": null,
   "id": "36a4a737",
   "metadata": {},
   "outputs": [],
   "source": []
  },
  {
   "cell_type": "markdown",
   "id": "bcf81134",
   "metadata": {},
   "source": [
    "## Job Title Detection:"
   ]
  },
  {
   "cell_type": "code",
   "execution_count": 22,
   "id": "d534dce1",
   "metadata": {},
   "outputs": [],
   "source": [
    "# Function to encode a resume text into a BERT-compatible format\n",
    "def encode_resume(resume_text):\n",
    "    input_ids = torch.tensor(tokenizer.encode(resume_text, add_special_tokens=True)).unsqueeze(0)  # Batch size 1\n",
    "    with torch.no_grad():\n",
    "        outputs = model(input_ids)\n",
    "    logits = outputs[0]\n",
    "    return logits"
   ]
  },
  {
   "cell_type": "code",
   "execution_count": 23,
   "id": "145cfd67",
   "metadata": {},
   "outputs": [],
   "source": [
    "# Define the job titles and their corresponding labels\n",
    "job_titles = ['Advocate','Data Scientist', 'Software Engineer','Dotnet Developer' ,'Marketing Manager' , 'Java Developer','Operations Manager', 'DevOps Engineer', 'Python Developer', 'Blockchain', 'SAP Developer', 'ETL Developer']\n",
    "labels = [1, 2, 3, 4, 5, 6, 7, 8, 9, 10]"
   ]
  },
  {
   "cell_type": "code",
   "execution_count": 24,
   "id": "c64a9c6c",
   "metadata": {},
   "outputs": [],
   "source": [
    "# Function to classify a resume based on its job title\n",
    "def classify_resume(resume_text):\n",
    "    logits = encode_resume(resume_text)\n",
    "    probs = torch.softmax(logits, dim=1)\n",
    "    top_prob, top_label = probs.max(1)\n",
    "    predicted_label = job_titles[top_label.item()]\n",
    "    return predicted_label"
   ]
  },
  {
   "cell_type": "code",
   "execution_count": 25,
   "id": "c09dd1f3",
   "metadata": {},
   "outputs": [
    {
     "name": "stdout",
     "output_type": "stream",
     "text": [
      "Predicted job title: Advocate\n"
     ]
    }
   ],
   "source": [
    "# Example usage\n",
    "predicted_label = classify_resume(text)\n",
    "print(\"Predicted job title:\", predicted_label)"
   ]
  },
  {
   "cell_type": "markdown",
   "id": "89931242",
   "metadata": {},
   "source": [
    "## Word Frequency:"
   ]
  },
  {
   "cell_type": "code",
   "execution_count": 26,
   "id": "cac54b25",
   "metadata": {},
   "outputs": [],
   "source": [
    "# Find frequency of each word in a string in Python\n",
    "# using dictionary.\n",
    "def count(elements):\n",
    "    # check if each word has '.' at its last. If so then ignore '.'\n",
    "    if elements[-1] == '.':\n",
    "        elements = elements[0:len(elements) - 1]\n",
    "\n",
    "    # if there exists a key as \"elements\" then simply\n",
    "    # increase its value.\n",
    "    if elements in dictionary:\n",
    "        dictionary[elements] += 1\n",
    "\n",
    "    # if the dictionary does not have the key as \"elements\"\n",
    "    # then create a key \"elements\" and assign its value to 1.\n",
    "    else:\n",
    "        dictionary.update({elements: 1})"
   ]
  },
  {
   "cell_type": "code",
   "execution_count": 27,
   "id": "4bab7970",
   "metadata": {},
   "outputs": [],
   "source": [
    "dictionary = {}"
   ]
  },
  {
   "cell_type": "code",
   "execution_count": 28,
   "id": "cca1f17b",
   "metadata": {},
   "outputs": [],
   "source": [
    "word_count2 = Counter(text2.split())"
   ]
  },
  {
   "cell_type": "code",
   "execution_count": 29,
   "id": "56d068cc",
   "metadata": {},
   "outputs": [
    {
     "data": {
      "image/png": "[encoded data removed]",
      "text/plain": [
       "<Figure size 2000x1000 with 1 Axes>"
      ]
     },
     "metadata": {},
     "output_type": "display_data"
    }
   ],
   "source": [
    "plt.figure(figsize=(20,10)) \n",
    "# Get the top 10 most frequent words\n",
    "top_words2 = word_count2.most_common(20)\n",
    "\n",
    "# Create a bar chart of the top words\n",
    "plt.barh([word[0] for word in top_words2], [word[1] for word in top_words2])\n",
    "plt.xlabel('Word')\n",
    "plt.ylabel('Frequency')\n",
    "plt.title('Frequently used words (with stop words)')\n",
    "plt.show()"
   ]
  },
  {
   "cell_type": "code",
   "execution_count": 30,
   "id": "623155e4",
   "metadata": {},
   "outputs": [],
   "source": [
    "word_count2 = Counter(text.split())"
   ]
  },
  {
   "cell_type": "code",
   "execution_count": 31,
   "id": "f5fefbe9",
   "metadata": {},
   "outputs": [
    {
     "data": {
      "image/png": "[encoded data removed]",
      "text/plain": [
       "<Figure size 2000x1000 with 1 Axes>"
      ]
     },
     "metadata": {},
     "output_type": "display_data"
    }
   ],
   "source": [
    "# Get the top 10 most frequent words\n",
    "top_words = word_count2.most_common(20)\n",
    "\n",
    "plt.figure(figsize=(20,10))\n",
    "\n",
    "# Create a bar chart of the top words\n",
    "plt.barh([word[0] for word in top_words], [word[1] for word in top_words])\n",
    "plt.xlabel('Word')\n",
    "plt.ylabel('Frequency')\n",
    "plt.title('Most frequently used words in resume without Stopwords')\n",
    "plt.show()"
   ]
  },
  {
   "cell_type": "code",
   "execution_count": null,
   "id": "a39f32ba",
   "metadata": {},
   "outputs": [],
   "source": []
  },
  {
   "cell_type": "markdown",
   "id": "8c07d82c",
   "metadata": {},
   "source": [
    "## Level Classifier using BERT:"
   ]
  },
  {
   "cell_type": "code",
   "execution_count": 32,
   "id": "503e25e1",
   "metadata": {},
   "outputs": [
    {
     "name": "stderr",
     "output_type": "stream",
     "text": [
      "Some weights of the model checkpoint at bert-base-uncased were not used when initializing BertForSequenceClassification: ['cls.predictions.transform.LayerNorm.bias', 'cls.predictions.transform.LayerNorm.weight', 'cls.seq_relationship.weight', 'cls.predictions.decoder.weight', 'cls.seq_relationship.bias', 'cls.predictions.transform.dense.bias', 'cls.predictions.bias', 'cls.predictions.transform.dense.weight']\n",
      "- This IS expected if you are initializing BertForSequenceClassification from the checkpoint of a model trained on another task or with another architecture (e.g. initializing a BertForSequenceClassification model from a BertForPreTraining model).\n",
      "- This IS NOT expected if you are initializing BertForSequenceClassification from the checkpoint of a model that you expect to be exactly identical (initializing a BertForSequenceClassification model from a BertForSequenceClassification model).\n",
      "Some weights of BertForSequenceClassification were not initialized from the model checkpoint at bert-base-uncased and are newly initialized: ['classifier.weight', 'classifier.bias']\n",
      "You should probably TRAIN this model on a down-stream task to be able to use it for predictions and inference.\n"
     ]
    },
    {
     "name": "stdout",
     "output_type": "stream",
     "text": [
      "Entry-level\n"
     ]
    }
   ],
   "source": [
    "# Load the pre-trained tokenizer and model\n",
    "tokenizer = BertTokenizer.from_pretrained('bert-base-uncased')\n",
    "model = BertForSequenceClassification.from_pretrained('bert-base-uncased', num_labels=3)\n",
    "\n",
    "# Define the categories\n",
    "categories = {\n",
    "    'Entry-level': 0,\n",
    "    'Mid-level': 1,\n",
    "    'Senior-level': 2\n",
    "}\n",
    "\n",
    "# Define a function to classify a resume\n",
    "def classify_resume(resume):\n",
    "    # Tokenize the resume\n",
    "    input_ids = tokenizer.encode(resume, add_special_tokens=True, truncation=True, max_length=512)\n",
    "    input_ids = torch.tensor(input_ids).unsqueeze(0)  # Add batch dimension\n",
    "\n",
    "    # Run the resume through the model\n",
    "    outputs = model(input_ids)\n",
    "    logits = outputs.logits\n",
    "    prediction = logits.argmax(dim=-1).item()\n",
    "\n",
    "    # Map the prediction to the corresponding category\n",
    "    for category, label in categories.items():\n",
    "        if label == prediction:\n",
    "            return category\n",
    "    return None\n",
    "\n",
    "# Test the function with a sample resume\n",
    "resume = text\n",
    "category = classify_resume(resume)\n",
    "print(category)"
   ]
  },
  {
   "cell_type": "code",
   "execution_count": null,
   "id": "8962d20e",
   "metadata": {},
   "outputs": [],
   "source": []
  },
  {
   "cell_type": "code",
   "execution_count": 46,
   "id": "7adf956b",
   "metadata": {},
   "outputs": [],
   "source": [
    "# # Load the pre-trained tokenizer and model\n",
    "# tokenizer = BertTokenizer.from_pretrained('bert-base-uncased')\n",
    "# model = BertForTokenClassification.from_pretrained('bert-base-uncased', num_labels=4)\n",
    "\n",
    "# # Define the categories\n",
    "# categories = {\n",
    "#     'B-KEYWORD': 1,  # Beginning of a keyword\n",
    "#     'I-KEYWORD': 2,  # Inside a keyword\n",
    "#     'O': 0,          # Outside a keyword\n",
    "# }\n",
    "\n",
    "# # Define a function to extract keywords from a resume\n",
    "# def extract_keywords(resume):\n",
    "#     # Tokenize the resume\n",
    "#     input_ids = tokenizer.encode(resume, add_special_tokens=True, truncation=True, max_length=512)\n",
    "#     input_ids = torch.tensor(input_ids).unsqueeze(0)  # Add batch dimension\n",
    "\n",
    "#     # Run the resume through the model\n",
    "#     outputs = model(input_ids)\n",
    "#     logits = outputs.logits\n",
    "#     predictions = logits.argmax(dim=-1).tolist()[0]\n",
    "\n",
    "#     # Map the predictions to keywords\n",
    "#     keywords = []\n",
    "#     current_keyword = []\n",
    "#     for i, prediction in enumerate(predictions):\n",
    "#         if prediction == categories['B-KEYWORD']:\n",
    "#             current_keyword.append(tokenizer.convert_ids_to_tokens([input_ids[0][i].item()])[0])\n",
    "#         elif prediction == categories['I-KEYWORD']:\n",
    "#             current_keyword.append(tokenizer.convert_ids_to_tokens([input_ids[0][i].item()])[0])\n",
    "#         else:\n",
    "#             if current_keyword:\n",
    "#                 keywords.append(' '.join(current_keyword))\n",
    "#                 current_keyword = []\n",
    "#     if current_keyword:\n",
    "#         keywords.append(' '.join(current_keyword))\n",
    "#     return keywords\n",
    "\n",
    "# # Test the function with a sample resume\n",
    "# resume = text\n",
    "# keywords = extract_keywords(resume)\n",
    "# print(keywords)"
   ]
  },
  {
   "cell_type": "code",
   "execution_count": null,
   "id": "8a626991",
   "metadata": {},
   "outputs": [],
   "source": []
  },
  {
   "cell_type": "code",
   "execution_count": 34,
   "id": "3881d3f4",
   "metadata": {},
   "outputs": [
    {
     "name": "stderr",
     "output_type": "stream",
     "text": [
      "Some weights of the model checkpoint at bert-base-uncased were not used when initializing BertForTokenClassification: ['cls.predictions.transform.LayerNorm.bias', 'cls.predictions.transform.LayerNorm.weight', 'cls.seq_relationship.weight', 'cls.predictions.decoder.weight', 'cls.seq_relationship.bias', 'cls.predictions.transform.dense.bias', 'cls.predictions.bias', 'cls.predictions.transform.dense.weight']\n",
      "- This IS expected if you are initializing BertForTokenClassification from the checkpoint of a model trained on another task or with another architecture (e.g. initializing a BertForSequenceClassification model from a BertForPreTraining model).\n",
      "- This IS NOT expected if you are initializing BertForTokenClassification from the checkpoint of a model that you expect to be exactly identical (initializing a BertForSequenceClassification model from a BertForSequenceClassification model).\n",
      "Some weights of BertForTokenClassification were not initialized from the model checkpoint at bert-base-uncased and are newly initialized: ['classifier.weight', 'classifier.bias']\n",
      "You should probably TRAIN this model on a down-stream task to be able to use it for predictions and inference.\n"
     ]
    },
    {
     "name": "stdout",
     "output_type": "stream",
     "text": [
      "[{'entity': 'career', 'label': 'ORG'}, {'entity': 'pr ##ash', 'label': 'JOB'}, {'entity': '##hya ##y phone', 'label': 'ORG'}, {'entity': '##ad', 'label': 'JOB'}, {'entity': '##ash', 'label': 'LOC'}, {'entity': 'use technical non technical personnel', 'label': 'JOB'}, {'entity': 'google may certificate google data analytics', 'label': 'JOB'}, {'entity': 'certification', 'label': 'ORG'}, {'entity': '##in', 'label': 'LOC'}, {'entity': 'nov', 'label': 'LOC'}, {'entity': 'used', 'label': 'JOB'}, {'entity': 'yo', 'label': 'LOC'}, {'entity': '##ps com', 'label': 'LOC'}, {'entity': 'intern', 'label': 'LOC'}, {'entity': '##born mat ##pl ##ot', 'label': 'LOC'}, {'entity': 'scraping', 'label': 'LOC'}, {'entity': 'time data', 'label': 'LOC'}, {'entity': '##e files', 'label': 'JOB'}, {'entity': '##rt', 'label': 'JOB'}, {'entity': '##rga', 'label': 'JOB'}, {'entity': 'aug', 'label': 'LOC'}, {'entity': '##ggle languages python c c', 'label': 'JOB'}, {'entity': 'university', 'label': 'LOC'}, {'entity': '##hra ##dun july', 'label': 'JOB'}]\n"
     ]
    }
   ],
   "source": [
    "# # Load pre-trained BERT tokenizer and model\n",
    "# tokenizer = BertTokenizer.from_pretrained('bert-base-uncased')\n",
    "# model = BertForTokenClassification.from_pretrained('bert-base-uncased', num_labels=7)\n",
    "\n",
    "# # Define labels for named entities (company names, job titles, locations)\n",
    "# labels = ['O', 'B-ORG', 'I-ORG', 'B-JOB', 'I-JOB', 'B-LOC', 'I-LOC']\n",
    "\n",
    "# # Define a function for performing NER using BERT\n",
    "# def bert_ner(text):\n",
    "#     # Tokenize input text\n",
    "#     tokens = tokenizer.encode(text, add_special_tokens=True)\n",
    "#     # Convert tokenized input to tensors\n",
    "#     input_ids = torch.tensor([tokens])\n",
    "#     # Perform forward pass through BERT model\n",
    "#     outputs = model(input_ids)\n",
    "#     # Get predicted labels for each token\n",
    "#     predictions = torch.argmax(outputs[0], dim=2).detach().cpu().numpy()[0]\n",
    "#     # Convert token IDs to tokens\n",
    "#     tokens = tokenizer.convert_ids_to_tokens(tokens)\n",
    "#     # Extract named entities\n",
    "#     entities = []\n",
    "#     current_entity = None\n",
    "#     for token, prediction in zip(tokens[1:-1], predictions[1:-1]):\n",
    "#         label = labels[prediction]\n",
    "#         if label.startswith('B-'):\n",
    "#             current_entity = {'entity': token, 'label': label[2:]}\n",
    "#         elif label.startswith('I-'):\n",
    "#             if current_entity:\n",
    "#                 current_entity['entity'] += ' ' + token\n",
    "#         else:\n",
    "#             if current_entity:\n",
    "#                 entities.append(current_entity)\n",
    "#                 current_entity = None\n",
    "#     if current_entity:\n",
    "#         entities.append(current_entity)\n",
    "#     return entities\n",
    "\n",
    "# # Example usage\n",
    "# # text = text\n",
    "# entities = bert_ner(text)\n",
    "# print(entities)"
   ]
  },
  {
   "cell_type": "code",
   "execution_count": 35,
   "id": "ed116ab5",
   "metadata": {},
   "outputs": [],
   "source": [
    "# pip install sentence-transformers"
   ]
  },
  {
   "cell_type": "code",
   "execution_count": 36,
   "id": "910bbec5",
   "metadata": {},
   "outputs": [],
   "source": [
    "# pip install bert-extractive-summarizer"
   ]
  },
  {
   "cell_type": "markdown",
   "id": "dc978683",
   "metadata": {},
   "source": [
    "## Summariser"
   ]
  },
  {
   "cell_type": "code",
   "execution_count": 37,
   "id": "473c6e71",
   "metadata": {},
   "outputs": [
    {
     "name": "stderr",
     "output_type": "stream",
     "text": [
      "No model was supplied, defaulted to sshleifer/distilbart-cnn-12-6 and revision a4f8f3e (https://huggingface.co/sshleifer/distilbart-cnn-12-6).\n",
      "Using a pipeline without specifying a model name and revision in production is not recommended.\n"
     ]
    },
    {
     "name": "stdout",
     "output_type": "stream",
     "text": [
      " prashant upadhyay is a career oriented professional with decent communication and interpersonal skills . He is seeking a challenging position in a growth oriented organization . He can effectively contribute through his skills and abilities .\n"
     ]
    }
   ],
   "source": [
    "from transformers import pipeline\n",
    "\n",
    "# Load the BERT summarization pipeline\n",
    "summarizer = pipeline(\"summarization\")\n",
    "\n",
    "# Define the text to summarize\n",
    "text = text2\n",
    "\n",
    "# Set the maximum length of the summary in words\n",
    "max_length = 200\n",
    "\n",
    "# Generate the summary using the BERT model\n",
    "summary = summarizer(text, max_length=max_length, min_length=10)\n",
    "\n",
    "# Print the summary\n",
    "print(summary[0]['summary_text'])"
   ]
  },
  {
   "cell_type": "code",
   "execution_count": null,
   "id": "9b81f0e3",
   "metadata": {},
   "outputs": [],
   "source": []
  },
  {
   "cell_type": "code",
   "execution_count": null,
   "id": "cf922dc0",
   "metadata": {},
   "outputs": [],
   "source": []
  },
  {
   "cell_type": "markdown",
   "id": "0d328997",
   "metadata": {},
   "source": [
    "## Resume Strength Score:"
   ]
  },
  {
   "cell_type": "code",
   "execution_count": 38,
   "id": "a4cb0509",
   "metadata": {},
   "outputs": [
    {
     "name": "stderr",
     "output_type": "stream",
     "text": [
      "Some weights of the model checkpoint at bert-base-uncased were not used when initializing BertForSequenceClassification: ['cls.predictions.transform.LayerNorm.bias', 'cls.predictions.transform.LayerNorm.weight', 'cls.seq_relationship.weight', 'cls.predictions.decoder.weight', 'cls.seq_relationship.bias', 'cls.predictions.transform.dense.bias', 'cls.predictions.bias', 'cls.predictions.transform.dense.weight']\n",
      "- This IS expected if you are initializing BertForSequenceClassification from the checkpoint of a model trained on another task or with another architecture (e.g. initializing a BertForSequenceClassification model from a BertForPreTraining model).\n",
      "- This IS NOT expected if you are initializing BertForSequenceClassification from the checkpoint of a model that you expect to be exactly identical (initializing a BertForSequenceClassification model from a BertForSequenceClassification model).\n",
      "Some weights of BertForSequenceClassification were not initialized from the model checkpoint at bert-base-uncased and are newly initialized: ['classifier.weight', 'classifier.bias']\n",
      "You should probably TRAIN this model on a down-stream task to be able to use it for predictions and inference.\n",
      "C:\\Users\\PRASHANT\\AppData\\Local\\Temp\\ipykernel_13972\\472207388.py:10: UserWarning: To copy construct from a tensor, it is recommended to use sourceTensor.clone().detach() or sourceTensor.clone().detach().requires_grad_(True), rather than torch.tensor(sourceTensor).\n",
      "  input_ids = torch.tensor(input_ids)\n"
     ]
    },
    {
     "name": "stdout",
     "output_type": "stream",
     "text": [
      "Based on your resume, we give you a score of 7-8.\n",
      "Your resume is good, but there's still room for improvement. Consider customizing it for each job you apply for.\n"
     ]
    }
   ],
   "source": [
    "# Load pre-trained BERT model and tokenizer\n",
    "tokenizer = BertTokenizer.from_pretrained('bert-base-uncased')\n",
    "model = BertForSequenceClassification.from_pretrained('bert-base-uncased', num_labels=4)\n",
    "\n",
    "# Define labels and scores for classification\n",
    "labels = ['0-3', '4-6', '7-8', '9-10']\n",
    "\n",
    "# Tokenize resume text and prepare it for input to BERT model\n",
    "input_ids = tokenizer.encode(text, add_special_tokens=True, max_length=512, truncation=True, padding=True, return_tensors='pt')\n",
    "input_ids = torch.tensor(input_ids)\n",
    "\n",
    "# Predict score for input resume text\n",
    "outputs = model(input_ids)[0]\n",
    "_, predicted_score = torch.max(outputs, 1)\n",
    "predicted_score = predicted_score.item()\n",
    "\n",
    "# Print score based on predicted label\n",
    "print(f\"Based on your resume, we give you a score of {labels[predicted_score]}.\")\n",
    "if predicted_score == 0:\n",
    "    print(\"Your resume needs significant improvement. Consider seeking professional help.\")\n",
    "elif predicted_score == 1:\n",
    "    print(\"Your resume could be stronger. Consider highlighting your achievements and quantifiable results.\")\n",
    "elif predicted_score == 2:\n",
    "    print(\"Your resume is good, but there's still room for improvement. Consider customizing it for each job you apply for.\")\n",
    "else:\n",
    "    print(\"Your resume is excellent! Keep up the good work.\")"
   ]
  },
  {
   "cell_type": "code",
   "execution_count": 39,
   "id": "bf709c3a",
   "metadata": {},
   "outputs": [
    {
     "name": "stderr",
     "output_type": "stream",
     "text": [
      "Some weights of the model checkpoint at bert-base-uncased were not used when initializing BertForSequenceClassification: ['cls.predictions.transform.LayerNorm.bias', 'cls.predictions.transform.LayerNorm.weight', 'cls.seq_relationship.weight', 'cls.predictions.decoder.weight', 'cls.seq_relationship.bias', 'cls.predictions.transform.dense.bias', 'cls.predictions.bias', 'cls.predictions.transform.dense.weight']\n",
      "- This IS expected if you are initializing BertForSequenceClassification from the checkpoint of a model trained on another task or with another architecture (e.g. initializing a BertForSequenceClassification model from a BertForPreTraining model).\n",
      "- This IS NOT expected if you are initializing BertForSequenceClassification from the checkpoint of a model that you expect to be exactly identical (initializing a BertForSequenceClassification model from a BertForSequenceClassification model).\n",
      "Some weights of BertForSequenceClassification were not initialized from the model checkpoint at bert-base-uncased and are newly initialized: ['classifier.weight', 'classifier.bias']\n",
      "You should probably TRAIN this model on a down-stream task to be able to use it for predictions and inference.\n",
      "C:\\Users\\PRASHANT\\AppData\\Local\\Temp\\ipykernel_13972\\3660181263.py:10: UserWarning: To copy construct from a tensor, it is recommended to use sourceTensor.clone().detach() or sourceTensor.clone().detach().requires_grad_(True), rather than torch.tensor(sourceTensor).\n",
      "  input_ids = torch.tensor(input_ids)\n"
     ]
    },
    {
     "name": "stdout",
     "output_type": "stream",
     "text": [
      "Based on your resume, we do not Recommend resume writing tips.\n",
      "Consider improving your resume by focusing on your skills and accomplishments.\n"
     ]
    }
   ],
   "source": [
    "# Load pre-trained BERT model and tokenizer\n",
    "tokenizer = BertTokenizer.from_pretrained('bert-base-uncased')\n",
    "model = BertForSequenceClassification.from_pretrained('bert-base-uncased', num_labels=2)\n",
    "\n",
    "# Define labels for classification\n",
    "labels = ['do not Recommend', 'Recommend']\n",
    "\n",
    "# Tokenize resume text and prepare it for input to BERT model\n",
    "input_ids = tokenizer.encode(text, add_special_tokens=True, max_length=512, truncation=True, padding=True, return_tensors='pt')\n",
    "input_ids = torch.tensor(input_ids)\n",
    "\n",
    "# Predict label for input resume text\n",
    "outputs = model(input_ids)[0]\n",
    "_, predicted_label = torch.max(outputs, 1)\n",
    "predicted_label = predicted_label.item()\n",
    "\n",
    "# Print recommendation based on predicted label\n",
    "print(f\"Based on your resume, we {labels[predicted_label]} resume writing tips.\")\n",
    "if predicted_label == 0:\n",
    "    print(\"Consider improving your resume by focusing on your skills and accomplishments.\")\n",
    "else:\n",
    "    print(\"Great job! Your resume is already strong. Consider highlighting your achievements and quantifiable results.\")"
   ]
  },
  {
   "cell_type": "code",
   "execution_count": null,
   "id": "a03b022c",
   "metadata": {},
   "outputs": [],
   "source": []
  },
  {
   "cell_type": "code",
   "execution_count": 40,
   "id": "f98aad56",
   "metadata": {},
   "outputs": [
    {
     "name": "stderr",
     "output_type": "stream",
     "text": [
      "Some weights of the model checkpoint at bert-base-uncased were not used when initializing BertForSequenceClassification: ['cls.predictions.transform.LayerNorm.bias', 'cls.predictions.transform.LayerNorm.weight', 'cls.seq_relationship.weight', 'cls.predictions.decoder.weight', 'cls.seq_relationship.bias', 'cls.predictions.transform.dense.bias', 'cls.predictions.bias', 'cls.predictions.transform.dense.weight']\n",
      "- This IS expected if you are initializing BertForSequenceClassification from the checkpoint of a model trained on another task or with another architecture (e.g. initializing a BertForSequenceClassification model from a BertForPreTraining model).\n",
      "- This IS NOT expected if you are initializing BertForSequenceClassification from the checkpoint of a model that you expect to be exactly identical (initializing a BertForSequenceClassification model from a BertForSequenceClassification model).\n",
      "Some weights of BertForSequenceClassification were not initialized from the model checkpoint at bert-base-uncased and are newly initialized: ['classifier.weight', 'classifier.bias']\n",
      "You should probably TRAIN this model on a down-stream task to be able to use it for predictions and inference.\n"
     ]
    },
    {
     "name": "stdout",
     "output_type": "stream",
     "text": [
      "Your resume looks great! Keep up the good work.\n"
     ]
    }
   ],
   "source": [
    "# Load the pre-trained BERT model and tokenizer\n",
    "tokenizer = AutoTokenizer.from_pretrained('bert-base-uncased')\n",
    "model = AutoModelForSequenceClassification.from_pretrained('bert-base-uncased', num_labels=2)\n",
    "\n",
    "# Define resume writing tips and suggestions\n",
    "tips = {\n",
    "    \"Education\": \"Add information about your educational background, including your degree, major, and GPA.\",\n",
    "    \"Experience\": \"Provide detailed information about your work experience, including your job titles, responsibilities, and accomplishments.\",\n",
    "    \"Skills\": \"List relevant skills that you have, including technical skills and soft skills such as communication and teamwork.\",\n",
    "    \"Achievements\": \"Include any notable achievements, such as awards or recognition you have received.\",\n",
    "    \"Formatting\": \"Use a clear and easy-to-read format, with consistent formatting throughout your resume.\",\n",
    "}\n",
    "\n",
    "# Define a function to provide resume writing tips and suggestions\n",
    "def get_resume_tips(resume_text):\n",
    "    # Tokenize the resume text\n",
    "    input_ids = tokenizer.encode(resume_text, add_special_tokens=True, return_tensors='pt')\n",
    "\n",
    "    # Make a prediction with the BERT model\n",
    "    with torch.no_grad():\n",
    "        outputs = model(input_ids)\n",
    "        predicted_class = torch.argmax(outputs[0])\n",
    "\n",
    "    # Return the corresponding resume writing tip\n",
    "    if predicted_class == 0:\n",
    "        return \"Your resume looks great! Keep up the good work.\"\n",
    "    else:\n",
    "        return \"Here are some tips to improve your resume:\\n\" + \"\\n\".join([tips[t] for t in tips])\n",
    "\n",
    "# Example usage\n",
    "# resume_text = \"I am an experienced software engineer with a degree in computer science. I have worked on several projects using Python, Java, and C++. My skills include problem solving, teamwork, and communication. In my free time, I enjoy participating in hackathons and contributing to open-source projects.\"\n",
    "tips = get_resume_tips(text)\n",
    "print(tips)"
   ]
  },
  {
   "cell_type": "code",
   "execution_count": null,
   "id": "bcede70e",
   "metadata": {},
   "outputs": [],
   "source": []
  },
  {
   "cell_type": "code",
   "execution_count": null,
   "id": "7b1c39a6",
   "metadata": {},
   "outputs": [],
   "source": []
  },
  {
   "cell_type": "code",
   "execution_count": 41,
   "id": "a5180c2b",
   "metadata": {},
   "outputs": [],
   "source": [
    "# import pandas as pd\n",
    "# import torch\n",
    "# import transformers as ppb\n",
    "\n",
    "# # Load pre-trained BERT tokenizer\n",
    "# tokenizer = ppb.BertTokenizer.from_pretrained('bert-base-uncased')\n",
    "\n",
    "# # Load pre-trained BERT model\n",
    "# model = ppb.BertForSequenceClassification.from_pretrained('bert-base-uncased')\n",
    "\n",
    "# # Load resumes dataset\n",
    "# resumes_df = pd.read_csv(r'C:\\Users\\PRASHANT\\Untitled Folder 3\\resume\\dot2.pdf')\n",
    "\n",
    "# # Encode resumes and labels\n",
    "# encoded_resumes = [tokenizer.encode(resume, add_special_tokens=True) for resume in resumes_df['resume_text']]\n",
    "# labels = resumes_df['category']\n",
    "\n",
    "# # Pad encoded resumes to the same length\n",
    "# max_len = max([len(resume) for resume in encoded_resumes])\n",
    "# padded_resumes = [resume + [0]*(max_len-len(resume)) for resume in encoded_resumes]\n",
    "\n",
    "# # Convert data to PyTorch tensors\n",
    "# input_ids = torch.tensor(padded_resumes)\n",
    "# attention_mask = torch.where(input_ids != 0, torch.tensor(1), torch.tensor(0))\n",
    "# labels = torch.tensor(labels)\n",
    "\n",
    "# # Define optimizer and loss function\n",
    "# optimizer = torch.optim.AdamW(model.parameters(), lr=1e-5)\n",
    "# loss_fn = torch.nn.CrossEntropyLoss()\n",
    "\n",
    "# # Train model\n",
    "# for epoch in range(3):\n",
    "#     model.train()\n",
    "#     optimizer.zero_grad()\n",
    "#     outputs = model(input_ids, attention_mask=attention_mask, labels=labels)\n",
    "#     loss = outputs.loss\n",
    "#     loss.backward()\n",
    "#     optimizer.step()\n",
    "#     print('Epoch:', epoch, ' Loss:', loss.item())\n",
    "\n",
    "# # Save fine-tuned model\n",
    "# # model.save_pretrained('fine_tuned_resume_model')"
   ]
  },
  {
   "cell_type": "code",
   "execution_count": null,
   "id": "31879737",
   "metadata": {},
   "outputs": [],
   "source": []
  },
  {
   "cell_type": "code",
   "execution_count": 42,
   "id": "f686155c",
   "metadata": {},
   "outputs": [],
   "source": [
    "# Create dictionary with industrial and system engineering key terms by area\n",
    "terms = {'Quality/Six Sigma':['black belt','capability analysis','control charts','doe','dmaic','fishbone',\n",
    "                              'gage r&r', 'green belt','ishikawa','iso','kaizen','kpi','lean','metrics',\n",
    "                              'pdsa','performance improvement','process improvement','quality',\n",
    "                              'quality circles','quality tools','root cause','six sigma',\n",
    "                              'stability analysis','statistical analysis','tqm'],      \n",
    "        'Operations management':['automation','bottleneck','constraints','cycle time','efficiency','fmea',\n",
    "                                 'machinery','maintenance','manufacture','line balancing','oee','operations',\n",
    "                                 'operations research','optimization','overall equipment effectiveness',\n",
    "                                 'pfmea','process','process mapping','production','resources','safety',\n",
    "                                 'stoppage','value stream mapping','utilization'],\n",
    "        'Supply chain':['abc analysis','apics','customer','customs','delivery','distribution','eoq','epq',\n",
    "                        'fleet','forecast','inventory','logistic','materials','outsourcing','procurement',\n",
    "                        'reorder point','rout','safety stock','scheduling','shipping','stock','suppliers',\n",
    "                        'third party logistics','transport','transportation','traffic','supply chain',\n",
    "                        'vendor','warehouse','wip','work in progress'],\n",
    "        'Quality assurance':['requirement analysis', 'writing test cases', 'executing test cases', 'logging defects and tracking', \n",
    "                        'preparing test reports', 'Agile Methodology', 'Test Automation', 'Continuous Integration', 'Scrum', \n",
    "                        'Selenium', 'QTP', 'Jmeter','SDLC', 'STLC''requirement analysis', 'writing test cases', \n",
    "                        'executing test cases', 'logging defects and tracking','preparing test reports', \n",
    "                        'Agile Methodology', 'Test Automation', 'Continuous Integration', 'Scrum', 'Selenium', \n",
    "                        'QTP', 'Jmeter', 'SDLC', 'STLC'],\n",
    "        'Project management':['administration','agile','budget','cost','direction','feasibility analysis',\n",
    "                              'finance','kanban','leader','leadership','management','milestones','planning',\n",
    "                              'pmi','pmp','problem','project','risk','schedule','scrum','stakeholders'],\n",
    "        'Data analytics':['analytics','api','aws','big data','busines intelligence','clustering','code',\n",
    "                          'coding','data','database','data mining','data science','deep learning','hadoop',\n",
    "                          'hypothesis test','iot','internet','machine learning','modeling','nosql',\n",
    "                          'predictive','programming','python','r','sql','tableau','text mining',\n",
    "                          'visualuzation'],\n",
    "         'Legals':['Contract Preparation' , 'HIPAA Compliance' , 'Motions' , 'Pleadings' , 'Discovery Requests & Responses' , \n",
    "                           'Legal Research & Correspondence' , 'Docket Management' , 'Memorandums' , 'Arguments' , 'Mediation' , 'Compliance' \n",
    "                           , 'Problem Solving' , 'Client Relations' , 'Public Speaking' , 'Project Management' , 'Litigation' , 'Depositions' \n",
    "                           , 'Trial Preparation' , 'Insurance Reporting' , 'Negotiation Strategies'],\n",
    "         'Data Science':['analytics','CNN', 'MTCNN', 'Data Science', 'GAN', 'api','aws','big data','busines intelligence','clustering','code',\n",
    "                          'coding','data','database','data mining','data science','deep learning','machine learning','nosql','nlp',\n",
    "                          'predictive','programming','python','r','sql','tableau','text mining',\n",
    "                          'visualuzation'],\n",
    "        'Healthcare':['adverse events','care','clinic','cphq','ergonomics','healthcare',\n",
    "                      'health care','health','hospital','human factors','medical','near misses',\n",
    "                      'patient','reporting system']}"
   ]
  },
  {
   "cell_type": "code",
   "execution_count": 43,
   "id": "653b2826",
   "metadata": {},
   "outputs": [],
   "source": [
    "# Initializie score counters for each area\n",
    "quality = 0\n",
    "operations = 0\n",
    "supplychain = 0\n",
    "project = 0\n",
    "data = 0\n",
    "healthcare = 0\n",
    "DataScience =0\n",
    "Legal = 0\n",
    "\n",
    "# Create an empty list where the scores will be stored\n",
    "scores = []\n",
    "\n",
    "# Obtain the scores for each area\n",
    "for area in terms.keys():\n",
    "        \n",
    "    if area == 'Quality/Six Sigma':\n",
    "        for word in terms[area]:\n",
    "            if word in text:\n",
    "                quality +=1\n",
    "        scores.append(quality)\n",
    "        \n",
    "    elif area == 'Operations management':\n",
    "        for word in terms[area]:\n",
    "            if word in text:\n",
    "                operations +=1\n",
    "        scores.append(operations)\n",
    "        \n",
    "    elif area == 'Legal':\n",
    "        for word in terms[area]:\n",
    "            if word in text:\n",
    "                operations +=1\n",
    "        scores.append(Legal)\n",
    "        \n",
    "    elif area == 'Supply chain':\n",
    "        for word in terms[area]:\n",
    "            if word in text:\n",
    "                supplychain +=1\n",
    "        scores.append(supplychain)\n",
    "        \n",
    "    elif area == 'Data Science':\n",
    "        for word in terms[area]:\n",
    "            if word in text:\n",
    "                DataScience +=1\n",
    "        scores.append(DataScience)\n",
    "        \n",
    "    elif area == 'Project management':\n",
    "        for word in terms[area]:\n",
    "            if word in text:\n",
    "                project +=1\n",
    "        scores.append(project)\n",
    "        \n",
    "    elif area == 'Data analytics':\n",
    "        for word in terms[area]:\n",
    "            if word in text:\n",
    "                data +=1\n",
    "        scores.append(data)\n",
    "        \n",
    "    else:\n",
    "        for word in terms[area]:\n",
    "            if word in text:\n",
    "                healthcare +=1\n",
    "        scores.append(healthcare)"
   ]
  },
  {
   "cell_type": "code",
   "execution_count": 44,
   "id": "79145ac3",
   "metadata": {},
   "outputs": [
    {
     "data": {
      "text/html": [
       "<div>\n",
       "<style scoped>\n",
       "    .dataframe tbody tr th:only-of-type {\n",
       "        vertical-align: middle;\n",
       "    }\n",
       "\n",
       "    .dataframe tbody tr th {\n",
       "        vertical-align: top;\n",
       "    }\n",
       "\n",
       "    .dataframe thead th {\n",
       "        text-align: right;\n",
       "    }\n",
       "</style>\n",
       "<table border=\"1\" class=\"dataframe\">\n",
       "  <thead>\n",
       "    <tr style=\"text-align: right;\">\n",
       "      <th></th>\n",
       "      <th>score</th>\n",
       "    </tr>\n",
       "  </thead>\n",
       "  <tbody>\n",
       "    <tr>\n",
       "      <th>Data analytics</th>\n",
       "      <td>13</td>\n",
       "    </tr>\n",
       "    <tr>\n",
       "      <th>Data Science</th>\n",
       "      <td>12</td>\n",
       "    </tr>\n",
       "    <tr>\n",
       "      <th>Project management</th>\n",
       "      <td>2</td>\n",
       "    </tr>\n",
       "    <tr>\n",
       "      <th>Healthcare</th>\n",
       "      <td>2</td>\n",
       "    </tr>\n",
       "    <tr>\n",
       "      <th>Quality/Six Sigma</th>\n",
       "      <td>1</td>\n",
       "    </tr>\n",
       "    <tr>\n",
       "      <th>Operations management</th>\n",
       "      <td>1</td>\n",
       "    </tr>\n",
       "    <tr>\n",
       "      <th>Supply chain</th>\n",
       "      <td>0</td>\n",
       "    </tr>\n",
       "    <tr>\n",
       "      <th>Quality assurance</th>\n",
       "      <td>0</td>\n",
       "    </tr>\n",
       "    <tr>\n",
       "      <th>Legals</th>\n",
       "      <td>0</td>\n",
       "    </tr>\n",
       "  </tbody>\n",
       "</table>\n",
       "</div>"
      ],
      "text/plain": [
       "                       score\n",
       "Data analytics            13\n",
       "Data Science              12\n",
       "Project management         2\n",
       "Healthcare                 2\n",
       "Quality/Six Sigma          1\n",
       "Operations management      1\n",
       "Supply chain               0\n",
       "Quality assurance          0\n",
       "Legals                     0"
      ]
     },
     "execution_count": 44,
     "metadata": {},
     "output_type": "execute_result"
    }
   ],
   "source": [
    "# Create a data frame with the scores summary\n",
    "summary = pd.DataFrame(scores,index=terms.keys(),columns=['score']).sort_values(by='score',ascending=False)\n",
    "summary"
   ]
  },
  {
   "cell_type": "code",
   "execution_count": 45,
   "id": "8f190dcd",
   "metadata": {},
   "outputs": [
    {
     "data": {
      "image/png": "[encoded data removed]",
      "text/plain": [
       "<Figure size 1000x1000 with 1 Axes>"
      ]
     },
     "metadata": {},
     "output_type": "display_data"
    }
   ],
   "source": [
    "# Create pie chart visualization\n",
    "pie = plt.figure(figsize=(10,10))\n",
    "plt.pie(summary['score'], labels=summary.index, explode = (0.1,0,0,0,0,0,0,0,0), autopct='%1.0f%%',shadow=True,startangle=90)\n",
    "plt.title('Industrial Engineering Candidate - Resume Decomposition by Areas')\n",
    "plt.axis('equal')\n",
    "plt.show()\n",
    "# Save pie chart as a .png file\n",
    "#pie.savefig('resume_screening_results.png')"
   ]
  },
  {
   "cell_type": "code",
   "execution_count": null,
   "id": "c1ffba0a",
   "metadata": {},
   "outputs": [],
   "source": []
  },
  {
   "cell_type": "code",
   "execution_count": null,
   "id": "9af6046e",
   "metadata": {},
   "outputs": [],
   "source": []
  }
 ],
 "metadata": {
  "kernelspec": {
   "display_name": "Python 3 (ipykernel)",
   "language": "python",
   "name": "python3"
  },
  "language_info": {
   "codemirror_mode": {
    "name": "ipython",
    "version": 3
   },
   "file_extension": ".py",
   "mimetype": "text/x-python",
   "name": "python",
   "nbconvert_exporter": "python",
   "pygments_lexer": "ipython3",
   "version": "3.9.13"
  }
 },
 "nbformat": 4,
 "nbformat_minor": 5
}
